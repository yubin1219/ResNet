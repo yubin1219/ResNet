{
  "nbformat": 4,
  "nbformat_minor": 0,
  "metadata": {
    "colab": {
      "name": "Residual Network 구현 및 학습.ipynb",
      "provenance": [],
      "collapsed_sections": []
    },
    "kernelspec": {
      "name": "python3",
      "display_name": "Python 3"
    },
    "accelerator": "GPU"
  },
  "cells": [
    {
      "cell_type": "code",
      "metadata": {
        "id": "Rm2vV6z-mgZ8"
      },
      "source": [
        "import tensorflow as tf\r\n",
        "import numpy as np"
      ],
      "execution_count": 1,
      "outputs": []
    },
    {
      "cell_type": "code",
      "metadata": {
        "id": "CwyyFlyGmqLf"
      },
      "source": [
        "EPOCHS=10"
      ],
      "execution_count": 2,
      "outputs": []
    },
    {
      "cell_type": "code",
      "metadata": {
        "id": "yKl3cB6QmuZV"
      },
      "source": [
        "class ResidualUnit(tf.keras.Model):\r\n",
        "  def __init__(self, filter_in, filter_out, kernel_size):\r\n",
        "    super(ResidualUnit, self).__init__()\r\n",
        "    \r\n",
        "    self.conv1 = tf.keras.layers.Conv2D(filter_out, kernel_size, padding='same')\r\n",
        "    self.bn1 = tf.keras.layers.BatchNormalization()\r\n",
        "    \r\n",
        "    self.conv2 = tf.keras.layers.Conv2D(filter_out, kernel_size, padding='same')\r\n",
        "    self.bn2 = tf.keras.layers.BatchNormalization()\r\n",
        "    \r\n",
        "    if filter_in == filter_out:\r\n",
        "        self.identity = lambda x: x\r\n",
        "    else:\r\n",
        "        self.identity = tf.keras.layers.Conv2D(filter_out, (1,1), padding='same')\r\n",
        "\r\n",
        "  def call(self, x, training=False, mask=None):\r\n",
        "    h = self.conv1(x)\r\n",
        "    h = self.bn1(h, training=training)\r\n",
        "    h = tf.nn.relu(h)\r\n",
        "        \r\n",
        "    h = self.conv2(h)\r\n",
        "    h = self.bn2(h, training=training)\r\n",
        "\r\n",
        "    h=tf.keras.layers.Add()([h,self.identity(x)])\r\n",
        "\r\n",
        "    return tf.nn.relu(h)"
      ],
      "execution_count": 6,
      "outputs": []
    },
    {
      "cell_type": "code",
      "metadata": {
        "id": "xOxmilt9m1cl"
      },
      "source": [
        "class ResnetLayer(tf.keras.Model):\r\n",
        "  def __init__(self, filter_in, filters, kernel_size):\r\n",
        "    super(ResnetLayer, self).__init__()\r\n",
        "    self.sequence = list()\r\n",
        "    for f_in, f_out in zip([filter_in] + list(filters), filters):\r\n",
        "      self.sequence.append(ResidualUnit(f_in, f_out, kernel_size))\r\n",
        "\r\n",
        "  def call(self, x, training=False, mask=None):\r\n",
        "    for unit in self.sequence:\r\n",
        "        x = unit(x, training=training)\r\n",
        "        \r\n",
        "    return x"
      ],
      "execution_count": 7,
      "outputs": []
    },
    {
      "cell_type": "code",
      "metadata": {
        "id": "_THgeMNanGdy"
      },
      "source": [
        "class ResNet(tf.keras.Model):\r\n",
        "  def __init__(self):\r\n",
        "    super(ResNet, self).__init__()\r\n",
        "    self.conv1 = tf.keras.layers.Conv2D(64, (3, 3), padding='same', activation='relu') # 28x28x64\r\n",
        "        \r\n",
        "    self.res1 = ResnetLayer(64, (128, 128), (3, 3)) # 28x28x128\r\n",
        "    self.pool1 = tf.keras.layers.MaxPool2D((2, 2)) # 14x14x128\r\n",
        "        \r\n",
        "    self.res2 = ResnetLayer(128, (256, 256), (3, 3)) # 14x14x256\r\n",
        "    self.pool2 = tf.keras.layers.MaxPool2D((2, 2)) # 7x7x256\r\n",
        "        \r\n",
        "    self.res3 = ResnetLayer(256, (512, 512), (3, 3)) # 7x7x512\r\n",
        "        \r\n",
        "    self.flatten = tf.keras.layers.Flatten()\r\n",
        "    self.dense1 = tf.keras.layers.Dense(1024, activation='relu')\r\n",
        "    self.dense2 = tf.keras.layers.Dense(10, activation='softmax')\r\n",
        "        \r\n",
        "  def call(self, x, training=False, mask=None):\r\n",
        "    h = self.conv1(x)\r\n",
        "        \r\n",
        "    h = self.res1(h, training=training)\r\n",
        "    h = self.pool1(h)\r\n",
        "    h = self.res2(h, training=training)\r\n",
        "    h = self.pool2(h)\r\n",
        "    h = self.res3(h, training=training)\r\n",
        "        \r\n",
        "    h = self.flatten(h)\r\n",
        "    h = self.dense1(h)\r\n",
        "\r\n",
        "    return self.dense2(h)"
      ],
      "execution_count": 8,
      "outputs": []
    },
    {
      "cell_type": "code",
      "metadata": {
        "colab": {
          "base_uri": "https://localhost:8080/"
        },
        "id": "6htMi7cUo1wJ",
        "outputId": "414f8eaa-9773-46ee-aafc-11a9e99fe724"
      },
      "source": [
        "mnist=tf.keras.datasets.mnist\r\n",
        "\r\n",
        "#Load Data from MNIST\r\n",
        "(x_train,y_train),(x_test,y_test)=mnist.load_data()\r\n",
        "\r\n",
        "#Data Normalization\r\n",
        "x_train,x_test=x_train/255.0,x_test/255.0\r\n",
        "\r\n",
        "#Channel 차원 추가\r\n",
        "# x_train=(NUM_SAMPLE,28,28) -> (NUM_SAMPLE,28,28,1)\r\n",
        "x_train=x_train[...,tf.newaxis].astype(np.float32)\r\n",
        "x_test=x_test[...,tf.newaxis].astype(np.float32)\r\n",
        "\r\n",
        "train_ds=tf.data.Dataset.from_tensor_slices((x_train,y_train)).shuffle(10000).batch(16)\r\n",
        "test_ds=tf.data.Dataset.from_tensor_slices((x_test,y_test)).batch(16)"
      ],
      "execution_count": 9,
      "outputs": [
        {
          "output_type": "stream",
          "text": [
            "Downloading data from https://storage.googleapis.com/tensorflow/tf-keras-datasets/mnist.npz\n",
            "11493376/11490434 [==============================] - 0s 0us/step\n"
          ],
          "name": "stdout"
        }
      ]
    },
    {
      "cell_type": "code",
      "metadata": {
        "id": "yM6FUZ3vpojG"
      },
      "source": [
        "model=ResNet()\r\n",
        "\r\n",
        "loss_object=tf.keras.losses.SparseCategoricalCrossentropy()\r\n",
        "optm=tf.keras.optimizers.Adam()\r\n",
        "\r\n",
        "train_loss=tf.keras.metrics.Mean(name='train_loss')\r\n",
        "train_accuracy=tf.keras.metrics.SparseCategoricalAccuracy(name='train_accuracy')\r\n",
        "test_loss=tf.keras.metrics.Mean(name='test_loss')\r\n",
        "test_accuracy=tf.keras.metrics.SparseCategoricalAccuracy(name='test_accuracy')"
      ],
      "execution_count": 10,
      "outputs": []
    },
    {
      "cell_type": "code",
      "metadata": {
        "id": "d57eb__Yps-K"
      },
      "source": [
        "# Implement training loop\r\n",
        "@tf.function\r\n",
        "def train_step(model, images, labels, loss_object, optimizer, train_loss, train_accuracy):\r\n",
        "    with tf.GradientTape() as tape:\r\n",
        "        predictions = model(images, training=True)\r\n",
        "        loss = loss_object(labels, predictions)\r\n",
        "    gradients = tape.gradient(loss, model.trainable_variables)\r\n",
        "\r\n",
        "    optimizer.apply_gradients(zip(gradients, model.trainable_variables))\r\n",
        "    train_loss(loss)\r\n",
        "    train_accuracy(labels, predictions)\r\n",
        "\r\n",
        "# Implement algorithm test\r\n",
        "@tf.function\r\n",
        "def test_step(model, images, labels, loss_object, test_loss, test_accuracy):\r\n",
        "    predictions = model(images, training=False)\r\n",
        "\r\n",
        "    t_loss = loss_object(labels, predictions)\r\n",
        "    test_loss(t_loss)\r\n",
        "    test_accuracy(labels, predictions)"
      ],
      "execution_count": 11,
      "outputs": []
    },
    {
      "cell_type": "code",
      "metadata": {
        "colab": {
          "base_uri": "https://localhost:8080/"
        },
        "id": "xDJF7R72pvWC",
        "outputId": "4c2fe990-37cd-4c95-c74f-024b2d587e6d"
      },
      "source": [
        "for epoch in range(EPOCHS):\r\n",
        "    for images, labels in train_ds:\r\n",
        "        train_step(model, images, labels, loss_object, optm, train_loss, train_accuracy)\r\n",
        "    for test_images, test_labels in test_ds:\r\n",
        "        test_step(model, test_images, test_labels, loss_object, test_loss, test_accuracy)\r\n",
        "        \r\n",
        "    template='Epoch {}, Loss: {}, Accuracy: {}, Test Loss: {}, Test Accuracy: {}'\r\n",
        "    print(template.format(epoch+1,\r\n",
        "                          train_loss.result(),train_accuracy.result()*100,\r\n",
        "                          test_loss.result(),test_accuracy.result()*100))\r\n",
        "    train_loss.reset_states()\r\n",
        "    train_accuracy.reset_states()\r\n",
        "    test_loss.reset_states()\r\n",
        "    test_accuracy.reset_states()"
      ],
      "execution_count": 12,
      "outputs": [
        {
          "output_type": "stream",
          "text": [
            "Epoch 1, Loss: 0.37034785747528076, Accuracy: 94.30000305175781, Test Loss: 0.061627522110939026, Test Accuracy: 98.04999542236328\n",
            "Epoch 2, Loss: 0.07013050466775894, Accuracy: 97.93333435058594, Test Loss: 0.08395904302597046, Test Accuracy: 97.58999633789062\n",
            "Epoch 3, Loss: 0.05592624470591545, Accuracy: 98.34333038330078, Test Loss: 0.04979050159454346, Test Accuracy: 98.54000091552734\n",
            "Epoch 4, Loss: 0.04659480229020119, Accuracy: 98.69833374023438, Test Loss: 0.03775816783308983, Test Accuracy: 98.76000213623047\n",
            "Epoch 5, Loss: 0.0355028361082077, Accuracy: 98.96333312988281, Test Loss: 0.025634365156292915, Test Accuracy: 99.18000030517578\n",
            "Epoch 6, Loss: 0.033794812858104706, Accuracy: 99.09832763671875, Test Loss: 0.05007009953260422, Test Accuracy: 98.86000061035156\n",
            "Epoch 7, Loss: 0.024737047031521797, Accuracy: 99.3116683959961, Test Loss: 0.04208442568778992, Test Accuracy: 98.75\n",
            "Epoch 8, Loss: 0.02519684098660946, Accuracy: 99.32666778564453, Test Loss: 0.036944374442100525, Test Accuracy: 99.04000091552734\n",
            "Epoch 9, Loss: 0.02141956426203251, Accuracy: 99.40166473388672, Test Loss: 0.03194596245884895, Test Accuracy: 99.23999786376953\n",
            "Epoch 10, Loss: 0.018537994474172592, Accuracy: 99.47000122070312, Test Loss: 0.03903383016586304, Test Accuracy: 99.1199951171875\n"
          ],
          "name": "stdout"
        }
      ]
    }
  ]
}